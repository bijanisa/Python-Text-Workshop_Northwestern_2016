{
 "cells": [
  {
   "cell_type": "markdown",
   "metadata": {},
   "source": [
    "# Installing youtube-dl and ffmpeg\n",
    "\n",
    "\n",
    "We'll start by installing [youtube-dl](https://rg3.github.io/youtube-dl/), [ffmpeg](https://www.ffmpeg.org/about.html), and [exiftool](http://www.sno.phy.queensu.ca/~phil/exiftool/).\n",
    "\n",
    "If you get a permissions error, switch to an admin account and enter each line manually in the terminal (without the preceding exclamation point)."
   ]
  },
  {
   "cell_type": "code",
   "execution_count": null,
   "metadata": {
    "collapsed": false
   },
   "outputs": [],
   "source": [
    "!brew install youtube-dl exiftool\n",
    "    \n",
    "!brew install ffmpeg --with-fdk-aac --with-ffplay --with-freetype --with-gpl --with-libass --with-libfdk-aac --with-libfreetype --with-libmp3lame --with-libopus --with-libquvi --with-libvorbis --with-libvpx --with-libx264 --with-libx265 --with-nonfree --with-opus --with-x265"
   ]
  },
  {
   "cell_type": "code",
   "execution_count": null,
   "metadata": {
    "collapsed": false
   },
   "outputs": [],
   "source": [
    "# Download a video from any YouTube URL.\n",
    "\n",
    "!cd ~/Desktop\n",
    "!youtube-dl https://www.youtube.com/watch?v=PEzoCoIolJ0\n",
    "    \n",
    "# The line above downloads Roger Corman's 1959 film 'A Bucket of Blood' (66 mins), but any video URL should work."
   ]
  },
  {
   "cell_type": "markdown",
   "metadata": {},
   "source": [
    "### ▷ Before we continue, go to the desktop and change your video's filename to \"Video.mp4\" or \"Video.mkv\" as appropriate."
   ]
  },
  {
   "cell_type": "code",
   "execution_count": null,
   "metadata": {
    "collapsed": false
   },
   "outputs": [],
   "source": [
    "# View video file metadata with Exiftool:\n",
    "\n",
    "!cd ~/Desktop\n",
    "!exiftool Video.mp4"
   ]
  },
  {
   "cell_type": "markdown",
   "metadata": {},
   "source": [
    "### ▷Creating video exceprts from the command line with ffmpeg\n",
    "\n",
    "Find more FFmpeg examples here: https://ffmpeg.org/ffmpeg.html#Main-options\n"
   ]
  },
  {
   "cell_type": "code",
   "execution_count": null,
   "metadata": {
    "collapsed": false
   },
   "outputs": [],
   "source": [
    "# The following extracts an 8-second clip beginning at 92 seconds (1:32).\n",
    "\n",
    "# The '-y' option tells FFmpeg to overwrite existing files without asking.\n",
    "\n",
    "!ffmpeg -i Video.mp4 -y -ss 92 -t 8 Video_clip.mp4"
   ]
  },
  {
   "cell_type": "code",
   "execution_count": null,
   "metadata": {
    "collapsed": false
   },
   "outputs": [],
   "source": [
    "# Open 'Video_clip.mp4' in VLC Media Player or your application of choice.\n",
    "# Running this cell will launch the video excerpt in VLC.\n",
    "# Download VLC here: http://www.videolan.org\n",
    "\n",
    "!cd ~/Desktop\n",
    "!open -a VLC Video_clip.mp4"
   ]
  },
  {
   "cell_type": "code",
   "execution_count": null,
   "metadata": {
    "collapsed": false
   },
   "outputs": [],
   "source": [
    "# The following time format works too:\n",
    "                \n",
    "# Here the '-c copy' option re-encodes the file in the process. \n",
    "\n",
    "# The '-loglevel warning' limits the verbosity of its text output. Try '-loglevel info' for a bit more.\n",
    "\n",
    "!ffmpeg -i Video.mp4 -y -c copy -loglevel warning -ss 00:11:00.50 -t 00:01:15.00 Video_clip_2.mp4"
   ]
  },
  {
   "cell_type": "code",
   "execution_count": null,
   "metadata": {
    "collapsed": false
   },
   "outputs": [],
   "source": [
    "# Opening second clip in VLC\n",
    "\n",
    "!cd ~/Desktop\n",
    "!open -a VLC Video_clip_2.mp4"
   ]
  },
  {
   "cell_type": "code",
   "execution_count": null,
   "metadata": {
    "collapsed": false,
    "scrolled": true
   },
   "outputs": [],
   "source": [
    "# Create a randomized cutup: chooses 5 4-second clips and splices them together.\n",
    "# This will take a few minutes to finish running. To see your progress, open \n",
    "# the terminal window where you launched the Jupyter kernel.\n",
    "\n",
    "import os\n",
    "import random\n",
    "    \n",
    "total_time=3907  ### Replace with full video length in seconds. See exiftool output. ###\n",
    "clip_time=4\n",
    "\n",
    "def random_start():\n",
    "     return random.random()*(total_time-clip_time)\n",
    "\n",
    "os.system('cd /Users/yourname/Desktop/') ### Swap in your username. ###\n",
    "\n",
    "for i in range(5):\n",
    "    os.system(\"ffmpeg -i Video.mp4 -ss \"+str(random_start())+\" -t 4 -y Clip_\"+str(i)+\".mp4\")\n",
    "    os.system(\"ffmpeg -i Clip_\"+str(i)+\".mp4 -c copy -bsf:v h264_mp4toannexb -f mpegts -y Clip_\"+str(i)+\".ts\")\n",
    "    os.system(\"rm Clip_\"+str(i)+\".mp4\") # Deleting temporary mp4 clips\n",
    "\n",
    "# Credit for this technique: https://trac.ffmpeg.org/wiki/Concatenate"
   ]
  },
  {
   "cell_type": "code",
   "execution_count": null,
   "metadata": {
    "collapsed": false
   },
   "outputs": [],
   "source": [
    "# Now combine the pieces:\n",
    "\n",
    "!cd ~/Desktop\n",
    "!ffmpeg -i \"concat:Clip_0.ts|Clip_1.ts|Clip_2.ts|Clip_3.ts|Clip_4.ts\" -c copy -bsf:a aac_adtstoasc -y Cutup.mp4"
   ]
  },
  {
   "cell_type": "code",
   "execution_count": null,
   "metadata": {
    "collapsed": false
   },
   "outputs": [],
   "source": [
    "# Open 'Cutup.mp4' in VLC Media Player or your application of choice.\n",
    "# Running this cell will launch the video in VLC.\n",
    "# Download VLC here: http://www.videolan.org\n",
    "\n",
    "!cd ~/Desktop\n",
    "!open -a VLC Cutup.mp4"
   ]
  },
  {
   "cell_type": "code",
   "execution_count": null,
   "metadata": {
    "collapsed": true
   },
   "outputs": [],
   "source": [
    "# Remove the temporary excerpt files\n",
    "\n",
    "!rm Clip_0.ts Clip_1.ts Clip_2.ts Clip_3.ts Clip_4.ts"
   ]
  },
  {
   "cell_type": "code",
   "execution_count": null,
   "metadata": {
    "collapsed": false
   },
   "outputs": [],
   "source": []
  },
  {
   "cell_type": "code",
   "execution_count": null,
   "metadata": {
    "collapsed": true
   },
   "outputs": [],
   "source": []
  },
  {
   "cell_type": "markdown",
   "metadata": {
    "collapsed": true
   },
   "source": [
    "<a rel=\"license\"\n",
    "     href=\"http://creativecommons.org/publicdomain/zero/1.0/\">\n",
    "    <img src=\"http://i.creativecommons.org/p/zero/1.0/88x31.png\" style=\"border-style: none;\" alt=\"CC0\" />\n",
    "  </a>"
   ]
  }
 ],
 "metadata": {
  "kernelspec": {
   "display_name": "Python 2",
   "language": "python",
   "name": "python2"
  },
  "language_info": {
   "codemirror_mode": {
    "name": "ipython",
    "version": 2
   },
   "file_extension": ".py",
   "mimetype": "text/x-python",
   "name": "python",
   "nbconvert_exporter": "python",
   "pygments_lexer": "ipython2",
   "version": "2.7.11"
  }
 },
 "nbformat": 4,
 "nbformat_minor": 0
}
