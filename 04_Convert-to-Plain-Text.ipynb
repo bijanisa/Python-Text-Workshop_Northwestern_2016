{
 "cells": [
  {
   "cell_type": "markdown",
   "metadata": {},
   "source": [
    "## Install wget\n",
    "\n",
    "Run the following bash command to install wget. If you get a permissions error, switch to an admin user and paste into a terminal window (without preceding exclamation point)."
   ]
  },
  {
   "cell_type": "code",
   "execution_count": null,
   "metadata": {
    "collapsed": false
   },
   "outputs": [],
   "source": [
    "!brew install wget\n",
    "\n",
    "# The following command resets our current bash session so we can access the program we just\n",
    "# installed.\n",
    "!source /etc/bashrc"
   ]
  },
  {
   "cell_type": "code",
   "execution_count": null,
   "metadata": {
    "collapsed": false
   },
   "outputs": [],
   "source": [
    "# The following downloads an EPUB file to the desktop and converts it to plain text. \n",
    "# Remove DRM first if needed. (See below.)\n",
    "\n",
    "# Change directory to desktop\n",
    "!cd ~/Desktop\n",
    "\n",
    "# Download file\n",
    "!wget http://principalhand.org/workshop-data/Piper_2012_Book-Was-There.epub\n",
    "\n",
    "#Converting from epub to txt\n",
    "!ebook-convert Piper_2012_Book-Was-There.epub Piper_2012_Book-Was-There.txt\n",
    "\n",
    "# Printing the first 25 lines of the new text file. Open in a text editor to see more.\n",
    "!head -n 25 Piper_2012_Book-Was-There.txt"
   ]
  },
  {
   "cell_type": "markdown",
   "metadata": {},
   "source": [
    "## .DOCX to Plain Text"
   ]
  },
  {
   "cell_type": "code",
   "execution_count": null,
   "metadata": {
    "collapsed": false
   },
   "outputs": [],
   "source": [
    "!pip install --user -U docx"
   ]
  },
  {
   "cell_type": "code",
   "execution_count": null,
   "metadata": {
    "collapsed": false
   },
   "outputs": [],
   "source": [
    "!cd ~/Desktop\n",
    "\n",
    "!wget http://principalhand.org/workshop-data/Patteson_Player-piano.docx"
   ]
  },
  {
   "cell_type": "code",
   "execution_count": null,
   "metadata": {
    "collapsed": false
   },
   "outputs": [],
   "source": [
    "from docx import opendocx\n",
    "from docx import getdocumenttext\n",
    "\n",
    "document = opendocx(\"/Users/yourname/Desktop/Patteson_Player-piano.docx\") ### Swap in your username. ##\n",
    "\n",
    "docx_text=getdocumenttext(document)\n",
    "\n",
    "print docx_text"
   ]
  },
  {
   "cell_type": "markdown",
   "metadata": {},
   "source": [
    "## Ebook to Plain Text\n",
    "\n",
    "### Install ebook-convert command line tool (via Calibre)\n",
    "\n",
    "First, download Calibre and add it to your Applications folder. \n",
    "\n",
    "    https://calibre-ebook.com/download_osx\n",
    "\n",
    "Open a terminal window using an admin/sudoer account and enter the following command:\n",
    "\n",
    "    sudo nano /etc/bashrc\n",
    "\n",
    "This will open the bashrc file — a list of commands executed every time a shell session starts — in the Nano text editor. Use arrows to move cursor to an empty line, then paste in following. It will create a global alias pointing to the ebook-convert command-line tool included in Calibre's application file.\n",
    "\n",
    "    alias ebook-convert='/Applications/calibre.app/Contents/MacOS/ebook-convert'\n",
    "\n",
    "Hit control+X to close the file. When prompted, type 'y' and hit return to save. The command 'ebook-convert' will now launch the ebook-convert tool.\n"
   ]
  },
  {
   "cell_type": "markdown",
   "metadata": {},
   "source": [
    "## Remove Ebook DRM\n",
    "\n",
    "Download and install DeDRM Tools:\n",
    "\n",
    "    https://apprenticealf.wordpress.com\n",
    "\n",
    "\n",
    "[ The rest of this cell is copied from the\n",
    "[DeDRM readme file](https://raw.githubusercontent.com/apprenticeharper/DeDRM_tools/master/DeDRM_Macintosh_Application/DeDRM%20ReadMe.rtf). ]\n",
    "\n",
    "    \n",
    "\n",
    "\n",
    "### ▷ About DeDRM\n",
    "\n",
    "DeDRM is an application that packs all of the python dm removal software into one easy to use program that remembers preferences and settings. It works without manual configuration with Kindle for Mac ebooks, Adobe Digital Editions Adept ePub and PDF ebooks, and Barnes & Noble NOOK Study ebooks.\n",
    "\n",
    "To remove the DRM of Kindle ebooks from eInk Kindles, other Barnes & Noble ePubs, eReader pdb ebooks, or Mobipocket ebooks, you must first run DeDRM application (by double-clicking it) and set some additional Preferences, depending on the origin of your ebook files. [...]\n",
    "\n",
    "A final preference is the destination folder for the DRM-free copies of your ebooks that the application produces. This can be either the same folder as the original ebook, or a folder of your choice.\n",
    "\n",
    "Once these preferences have been set, you can drag and drop ebooks (or folders of ebooks) onto the DeDRM droplet to remove the DRM.\n",
    "\n",
    "This program uses notifications, so really needs Mac OS X 10.8 or above. It will not work on Mac OS X 10.4 or earlier. It might work on Mac OS X 10.5-10.7, but the latest Kindle for Mac does not support those System versions.\n",
    "\n",
    "\n",
    "### ▷ Installation\n",
    "\n",
    "Drag the DeDRM application from from the DeDRM_Application_Macintosh folder (the location of this ReadMe) to your Applications folder, or anywhere else you find convenient.\n",
    "\n",
    "\n",
    "\n",
    "### ▷ Use\n",
    "1. To set the preferences, double-click the application and follow the instructions in the dialogs.\n",
    "\n",
    "2. Drag & Drop DRMed ebooks or folders of DRMed ebooks onto the application icon when it is not running.\n",
    "\n"
   ]
  },
  {
   "cell_type": "code",
   "execution_count": null,
   "metadata": {
    "collapsed": true
   },
   "outputs": [],
   "source": []
  },
  {
   "cell_type": "code",
   "execution_count": null,
   "metadata": {
    "collapsed": true
   },
   "outputs": [],
   "source": []
  },
  {
   "cell_type": "markdown",
   "metadata": {},
   "source": [
    "## PDF to Plain Text\n",
    "\n",
    "Converting a PDF to text is just as easy, though the results may be messy. Note that this will only work for PDFs that contain text data.\n",
    "\n",
    "Enter the following command to install poppler, which will install the pdftotext shortcut."
   ]
  },
  {
   "cell_type": "code",
   "execution_count": null,
   "metadata": {
    "collapsed": true
   },
   "outputs": [],
   "source": [
    "!brew install poppler\n",
    "\n",
    "# Linux version:  apt-get install poppler-utils"
   ]
  },
  {
   "cell_type": "code",
   "execution_count": null,
   "metadata": {
    "collapsed": false
   },
   "outputs": [],
   "source": [
    "# Downloads a fairly clean OCR'd PDF and converts it to plain text, then displays then\n",
    "# first 50 lines.\n",
    "\n",
    "!cd ~/Desktop\n",
    "\n",
    "!wget --quiet http://principalhand.org/workshop-data/Star-and-Bowker_2002_How-to-Infrastructure.pdf\n",
    "    \n",
    "!pdftotext Star-and-Bowker_2002_How-to-Infrastructure.pdf Star-and-Bowker_2002_How-to-Infrastructure.txt\n",
    "\n",
    "!head -n 50 Star-and-Bowker_2002_How-to-Infrastructure.txt"
   ]
  },
  {
   "cell_type": "code",
   "execution_count": null,
   "metadata": {
    "collapsed": false
   },
   "outputs": [],
   "source": [
    "# Downloads a (supposedly) OCR'd PDF and converts it to plain text, then displays the first \n",
    "# 50 lines.\n",
    "\n",
    "!cd ~/Desktop\n",
    "\n",
    "!wget --quiet http://principalhand.org/workshop-data/Benjnamin_Unpacking-my-Library.pdf\n",
    "    \n",
    "!pdftotext Benjnamin_Unpacking-my-Library.pdf Benjnamin_Unpacking-my-Library.txt\n",
    "\n",
    "!head -n 50 Benjnamin_Unpacking-my-Library.pdf"
   ]
  },
  {
   "cell_type": "code",
   "execution_count": null,
   "metadata": {
    "collapsed": true
   },
   "outputs": [],
   "source": []
  },
  {
   "cell_type": "code",
   "execution_count": null,
   "metadata": {
    "collapsed": true
   },
   "outputs": [],
   "source": []
  },
  {
   "cell_type": "markdown",
   "metadata": {
    "collapsed": false
   },
   "source": [
    "## Web Text to Plain Text"
   ]
  },
  {
   "cell_type": "markdown",
   "metadata": {},
   "source": [
    "### ▷ Install html2text"
   ]
  },
  {
   "cell_type": "code",
   "execution_count": null,
   "metadata": {
    "collapsed": false
   },
   "outputs": [],
   "source": [
    "!pip install --user -U html2text"
   ]
  },
  {
   "cell_type": "code",
   "execution_count": null,
   "metadata": {
    "collapsed": true
   },
   "outputs": [],
   "source": [
    "# Let's relaunch bash and Python so we can access our newly installed modules.\n",
    "\n",
    "!source /etc/bashrc\n",
    "\n",
    "quit()"
   ]
  },
  {
   "cell_type": "code",
   "execution_count": null,
   "metadata": {
    "collapsed": false
   },
   "outputs": [],
   "source": [
    "# Converts a news article to plain text.\n",
    "\n",
    "from html2text import html2text\n",
    "import urllib2\n",
    "\n",
    "url=\"http://www.chicagotribune.com/news/opinion/editorials/ct-texting-walking-pedestrian-edit-20160818-story.html\"\n",
    "temp_string=urllib2.urlopen(url).read()    # grabs page HTML\n",
    "#temp_string=sanitize(html2text(temp_string))  # uncomment to sanitize\n",
    "print temp_string[:1000]"
   ]
  },
  {
   "cell_type": "code",
   "execution_count": null,
   "metadata": {
    "collapsed": false
   },
   "outputs": [],
   "source": []
  },
  {
   "cell_type": "code",
   "execution_count": null,
   "metadata": {
    "collapsed": false
   },
   "outputs": [],
   "source": []
  },
  {
   "cell_type": "markdown",
   "metadata": {
    "collapsed": true
   },
   "source": [
    "### ▷ Install newspaper\n",
    "\n",
    "Let's download the [newspaper](https://pypi.python.org/pypi/newspaper) module for Python, which helps parse article-formatted pages on the Web."
   ]
  },
  {
   "cell_type": "code",
   "execution_count": null,
   "metadata": {
    "collapsed": false
   },
   "outputs": [],
   "source": [
    "# Additional dependencies you may need:\n",
    "\n",
    "!brew install libxml2 libxslt libtiff libjpeg webp little-cms2\n",
    "\n",
    "# Dependencies on Linux: apt-get install libxml2-dev libxslt-dev python-dev\n",
    "\n",
    "!pip install --user -U newspaper"
   ]
  },
  {
   "cell_type": "code",
   "execution_count": null,
   "metadata": {
    "collapsed": true
   },
   "outputs": [],
   "source": [
    "# Let's relaunch Python so we can access our newly installed modules.\n",
    "\n",
    "quit()"
   ]
  },
  {
   "cell_type": "code",
   "execution_count": null,
   "metadata": {
    "collapsed": false
   },
   "outputs": [],
   "source": [
    "from newspaper import Article\n",
    "\n",
    "url ='http://www.nytimes.com/2016/08/17/business/when-the-captain-is-mom-accommodating-new-motherhood-at-30000-feet.html'\n",
    "article = Article(url)\n",
    "article.download()\n",
    "print article.html[:1000]"
   ]
  },
  {
   "cell_type": "code",
   "execution_count": null,
   "metadata": {
    "collapsed": false
   },
   "outputs": [],
   "source": [
    "article.parse()\n",
    "print article.authors\n",
    "print \"\\n\"\n",
    "print article.publish_date\n",
    "print \"\\n\"\n",
    "print article.text[:1000]"
   ]
  },
  {
   "cell_type": "code",
   "execution_count": null,
   "metadata": {
    "collapsed": false
   },
   "outputs": [],
   "source": [
    "# Let's define a function that takes a URL and returns the cont.\n",
    "\n",
    "from newspaper import Article\n",
    "from textblob import TextBlob\n",
    "\n",
    "def article2blob(url):\n",
    "    article = Article(url)\n",
    "    article.download()\n",
    "    article.parse()\n",
    "    return TextBlob(article.text)"
   ]
  },
  {
   "cell_type": "code",
   "execution_count": null,
   "metadata": {
    "collapsed": false
   },
   "outputs": [],
   "source": [
    "import random\n",
    "\n",
    "url=\"http://www.latimes.com/projects/la-fi-manufacturing-boom-mexico/#nt=oft12aH-2la1\"\n",
    "\n",
    "article_blob=article2blob(url)\n",
    "\n",
    "print random.sample(article_blob.sentences,1)"
   ]
  },
  {
   "cell_type": "code",
   "execution_count": null,
   "metadata": {
    "collapsed": true
   },
   "outputs": [],
   "source": []
  },
  {
   "cell_type": "code",
   "execution_count": null,
   "metadata": {
    "collapsed": true
   },
   "outputs": [],
   "source": []
  },
  {
   "cell_type": "markdown",
   "metadata": {
    "collapsed": true
   },
   "source": [
    "<a rel=\"license\"\n",
    "     href=\"http://creativecommons.org/publicdomain/zero/1.0/\">\n",
    "    <img src=\"http://i.creativecommons.org/p/zero/1.0/88x31.png\" style=\"border-style: none;\" alt=\"CC0\" />\n",
    "  </a>"
   ]
  }
 ],
 "metadata": {
  "kernelspec": {
   "display_name": "Python 2",
   "language": "python",
   "name": "python2"
  },
  "language_info": {
   "codemirror_mode": {
    "name": "ipython",
    "version": 2
   },
   "file_extension": ".py",
   "mimetype": "text/x-python",
   "name": "python",
   "nbconvert_exporter": "python",
   "pygments_lexer": "ipython2",
   "version": "2.7.11"
  }
 },
 "nbformat": 4,
 "nbformat_minor": 0
}
